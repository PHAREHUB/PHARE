{
 "cells": [
  {
   "cell_type": "code",
   "execution_count": 1,
   "metadata": {
    "ExecuteTime": {
     "end_time": "2019-12-14T13:40:05.177089Z",
     "start_time": "2019-12-14T13:40:05.160409Z"
    }
   },
   "outputs": [],
   "source": [
    "import sys\n",
    "sys.path.append(\"/Users/nicolasaunai/Documents/code/phare/phare/pharein\")\n",
    "import pharein as ph"
   ]
  },
  {
   "cell_type": "code",
   "execution_count": 2,
   "metadata": {
    "ExecuteTime": {
     "end_time": "2019-12-14T13:40:05.621897Z",
     "start_time": "2019-12-14T13:40:05.616233Z"
    }
   },
   "outputs": [],
   "source": [
    "ph.global_vars.sim = None"
   ]
  },
  {
   "cell_type": "markdown",
   "metadata": {},
   "source": [
    "# user initialization script"
   ]
  },
  {
   "cell_type": "code",
   "execution_count": 3,
   "metadata": {
    "ExecuteTime": {
     "end_time": "2019-12-14T13:40:05.998158Z",
     "start_time": "2019-12-14T13:40:05.992951Z"
    }
   },
   "outputs": [],
   "source": [
    "#!/usr/bin/env python\n",
    "\n",
    "import pharein\n",
    "from pharein import Simulation\n",
    "from pharein import MaxwellianFluidModel\n",
    "from pharein import ElectromagDiagnostics\n",
    "from pharein import FluidDiagnostics\n",
    "from pharein import ParticleDiagnostics"
   ]
  },
  {
   "cell_type": "code",
   "execution_count": 4,
   "metadata": {
    "ExecuteTime": {
     "end_time": "2019-12-14T13:40:06.451721Z",
     "start_time": "2019-12-14T13:40:06.415944Z"
    }
   },
   "outputs": [
    {
     "name": "stdout",
     "output_type": "stream",
     "text": [
      "Need to test boxes are OK (no overlap, in level range, etc.)\n"
     ]
    },
    {
     "data": {
      "text/plain": [
       "<pharein.simulation.Simulation at 0x112169610>"
      ]
     },
     "execution_count": 4,
     "metadata": {},
     "output_type": "execute_result"
    }
   ],
   "source": [
    "\n",
    "#------------------------------------\n",
    "#     configure the simulation\n",
    "#------------------------------------\n",
    "\n",
    "Simulation(\n",
    "    time_step_nbr=1000,                   # number of time steps (not specified if time_step and final_time provided)\n",
    "    final_time=1.,                        # simulation final time (not specified if time_step and time_step_nbr given)\n",
    "    boundary_types=\"periodic\",            # boundary condition, string or tuple, length == len(cell) == len(dl)\n",
    "    cells=80,                             # integer or tuple length == dimension\n",
    "    dl=0.1,                               # mesh size of the root level, float or tuple\n",
    "    path='test5'                          # directory where INI file and diagnostics directories will be\n",
    "    # time_step = 0.005,                  # simulation time step (not specified if time_step_nbr and final_time given)\n",
    "    # domain_size = 8.,                   # float or tuple, not specified if dl and cells are\n",
    "    # interp_order = 1,                   # interpolation order, [default = 1] can be 1, 2, 3 or 4\n",
    "    # layout = \"yee\",                     # grid layout, [default=\"yee\"]\n",
    "    # origin = 0.,                        # position of the origin of the domain, float or tuple (length = dimension)\n",
    "    # particle_pusher = \"modified_boris\", # particle pusher method, [default = \"modified_boris\"]\n",
    "    # refined_particle_nbr = 2,           # number of refined particle a particle is split into [default : ]\n",
    "    # diag_export_format = 'ascii',       # export format of the diagnostics [default = 'ascii']\n",
    "    # refinement = {\"level\":[0,1],        # AMR parameters\n",
    "    #                \"extent_ratio\":[0.4, 0.6],\n",
    "    #                \"refinement_iterations\":[0, 3]},\n",
    "\n",
    ") # end Simulation\n",
    "\n",
    "\n",
    "\n"
   ]
  },
  {
   "cell_type": "code",
   "execution_count": 5,
   "metadata": {
    "ExecuteTime": {
     "end_time": "2019-12-14T13:40:06.858725Z",
     "start_time": "2019-12-14T13:40:06.840858Z"
    }
   },
   "outputs": [
    {
     "data": {
      "text/plain": [
       "<pharein.maxwellian_fluid_model.MaxwellianFluidModel at 0x112192210>"
      ]
     },
     "execution_count": 5,
     "metadata": {},
     "output_type": "execute_result"
    }
   ],
   "source": [
    "\n",
    "import numpy as np\n",
    "\n",
    "def n(x):\n",
    "    x0 = 5.\n",
    "    return 1./np.cosh(x-x0)**2\n",
    "\n",
    "def bx(x):\n",
    "    x0=5.\n",
    "    return np.tanh(x-x0)\n",
    "\n",
    "\n",
    "MaxwellianFluidModel(bx=bx,\n",
    "                     protons={\"density\":n},\n",
    "                     background={})\n",
    "\n",
    "\n",
    "\n"
   ]
  },
  {
   "cell_type": "code",
   "execution_count": 6,
   "metadata": {
    "ExecuteTime": {
     "end_time": "2019-12-14T13:40:07.254925Z",
     "start_time": "2019-12-14T13:40:07.238198Z"
    }
   },
   "outputs": [
    {
     "data": {
      "text/plain": [
       "<pharein.diagnostics.ElectromagDiagnostics at 0x112150e50>"
      ]
     },
     "execution_count": 6,
     "metadata": {},
     "output_type": "execute_result"
    }
   ],
   "source": [
    "ElectromagDiagnostics(\n",
    "    diag_type=\"E\",                  # available : (\"E\", \"B\")\n",
    "    write_every=10,\n",
    "    compute_every=5,\n",
    "    start_teration=0,\n",
    "    last_iteration=990,\n",
    "    path = 'ElectromagDiagnostics1'   # where output files will be written, [default: name]\n",
    ") "
   ]
  },
  {
   "cell_type": "code",
   "execution_count": 7,
   "metadata": {
    "ExecuteTime": {
     "end_time": "2019-12-14T13:40:07.647308Z",
     "start_time": "2019-12-14T13:40:07.633073Z"
    }
   },
   "outputs": [
    {
     "data": {
      "text/plain": [
       "<pharein.diagnostics.FluidDiagnostics at 0x1121b4d50>"
      ]
     },
     "execution_count": 7,
     "metadata": {},
     "output_type": "execute_result"
    }
   ],
   "source": [
    "FluidDiagnostics(\n",
    "    diag_type=\"density\",            # choose in (rho_s, flux_s)\n",
    "    write_every=10,                 # write on disk every x iterations\n",
    "    compute_every=5,                # compute diagnostics every x iterations ( x <= write_every)\n",
    "    start_iteration=0,              # iteration at which diag is enabled\n",
    "    last_iteration=990,             # iteration at which diag is turned off\n",
    "    population_name=\"protons\"       # name of the population for which the diagnostics is made\n",
    "  #,path = 'FluidDiagnostics1'      # where output files will be written, [default: name]\n",
    ")"
   ]
  },
  {
   "cell_type": "code",
   "execution_count": 8,
   "metadata": {
    "ExecuteTime": {
     "end_time": "2019-12-14T13:40:08.070117Z",
     "start_time": "2019-12-14T13:40:08.060054Z"
    }
   },
   "outputs": [
    {
     "data": {
      "text/plain": [
       "<pharein.diagnostics.FluidDiagnostics at 0x11214e350>"
      ]
     },
     "execution_count": 8,
     "metadata": {},
     "output_type": "execute_result"
    }
   ],
   "source": [
    "FluidDiagnostics(\n",
    "    diag_type=\"bulk_velocity\",\n",
    "    write_every=10,\n",
    "    compute_every=5,\n",
    "    start_iteration=0,\n",
    "    last_iteration=990,\n",
    "    population_name=\"background\"\n",
    ")"
   ]
  },
  {
   "cell_type": "code",
   "execution_count": 9,
   "metadata": {
    "ExecuteTime": {
     "end_time": "2019-12-14T13:40:08.477985Z",
     "start_time": "2019-12-14T13:40:08.468246Z"
    }
   },
   "outputs": [
    {
     "data": {
      "text/plain": [
       "<pharein.diagnostics.FluidDiagnostics at 0x1121c7290>"
      ]
     },
     "execution_count": 9,
     "metadata": {},
     "output_type": "execute_result"
    }
   ],
   "source": [
    "FluidDiagnostics(\n",
    "    diag_type=\"density\",\n",
    "    write_every=10,\n",
    "    compute_every=5,\n",
    "    start_iteration=0,\n",
    "    last_iteration=990,\n",
    "    population_name=\"all\"\n",
    ")"
   ]
  },
  {
   "cell_type": "code",
   "execution_count": 10,
   "metadata": {
    "ExecuteTime": {
     "end_time": "2019-12-14T13:40:08.862987Z",
     "start_time": "2019-12-14T13:40:08.853762Z"
    }
   },
   "outputs": [
    {
     "data": {
      "text/plain": [
       "[<pharein.diagnostics.ElectromagDiagnostics at 0x112150e50>,\n",
       " <pharein.diagnostics.FluidDiagnostics at 0x1121b4d50>,\n",
       " <pharein.diagnostics.FluidDiagnostics at 0x11214e350>,\n",
       " <pharein.diagnostics.FluidDiagnostics at 0x1121c7290>]"
      ]
     },
     "execution_count": 10,
     "metadata": {},
     "output_type": "execute_result"
    }
   ],
   "source": [
    "pharein.global_vars.sim.diagnostics"
   ]
  },
  {
   "cell_type": "code",
   "execution_count": 11,
   "metadata": {
    "ExecuteTime": {
     "end_time": "2019-12-14T13:40:09.297990Z",
     "start_time": "2019-12-14T13:40:09.288192Z"
    }
   },
   "outputs": [
    {
     "data": {
      "text/plain": [
       "<pharein.diagnostics.FluidDiagnostics at 0x1121e0d90>"
      ]
     },
     "execution_count": 11,
     "metadata": {},
     "output_type": "execute_result"
    }
   ],
   "source": [
    "FluidDiagnostics(\n",
    "    diag_type=\"flux\",\n",
    "    write_every=10,\n",
    "    compute_every=5,\n",
    "    start_iteration=0,\n",
    "    last_iteration=990,\n",
    "    population_name=\"background\"\n",
    ")"
   ]
  },
  {
   "cell_type": "code",
   "execution_count": 12,
   "metadata": {
    "ExecuteTime": {
     "end_time": "2019-12-14T13:40:09.706296Z",
     "start_time": "2019-12-14T13:40:09.695721Z"
    }
   },
   "outputs": [
    {
     "data": {
      "text/plain": [
       "<pharein.diagnostics.ElectromagDiagnostics at 0x11219d0d0>"
      ]
     },
     "execution_count": 12,
     "metadata": {},
     "output_type": "execute_result"
    }
   ],
   "source": [
    "ElectromagDiagnostics(\n",
    "    diag_type=\"B\",\n",
    "    write_every=10,\n",
    "    compute_every=5,\n",
    "    start_teration=0,\n",
    "    last_iteration=990\n",
    ")"
   ]
  },
  {
   "cell_type": "code",
   "execution_count": 13,
   "metadata": {
    "ExecuteTime": {
     "end_time": "2019-12-14T13:40:10.141413Z",
     "start_time": "2019-12-14T13:40:10.129598Z"
    }
   },
   "outputs": [
    {
     "data": {
      "text/plain": [
       "<pharein.diagnostics.ParticleDiagnostics at 0x11219d210>"
      ]
     },
     "execution_count": 13,
     "metadata": {},
     "output_type": "execute_result"
    }
   ],
   "source": [
    "ParticleDiagnostics(\n",
    "        compute_every=10,\n",
    "        write_every=10,\n",
    "        start_iteration=0,\n",
    "        last_iteration=90,\n",
    "        diag_type=\"space_box\",          # choose particles within a spatial box\n",
    "        extent=(2., 4.),                # extent of the box\n",
    "        population_name=\"protons\"\n",
    "        )"
   ]
  },
  {
   "cell_type": "code",
   "execution_count": 14,
   "metadata": {
    "ExecuteTime": {
     "end_time": "2019-12-14T13:40:10.527550Z",
     "start_time": "2019-12-14T13:40:10.518790Z"
    }
   },
   "outputs": [
    {
     "data": {
      "text/plain": [
       "['electromag0',\n",
       " 'fluid0',\n",
       " 'fluid1',\n",
       " 'fluid2',\n",
       " 'fluid3',\n",
       " 'electromag1',\n",
       " 'particle0']"
      ]
     },
     "execution_count": 14,
     "metadata": {},
     "output_type": "execute_result"
    }
   ],
   "source": [
    "[diag.name for diag in ph.global_vars.sim.diagnostics]"
   ]
  },
  {
   "cell_type": "code",
   "execution_count": 15,
   "metadata": {
    "ExecuteTime": {
     "end_time": "2019-12-14T13:40:10.910961Z",
     "start_time": "2019-12-14T13:40:10.898434Z"
    }
   },
   "outputs": [
    {
     "data": {
      "text/plain": [
       "{'model': 'model',\n",
       " 'model_name': 'custom',\n",
       " 'bx': <function pharein.maxwellian_fluid_model.MaxwellianFluidModel.defaulter.<locals>.<lambda>(x)>,\n",
       " 'by': <function pharein.maxwellian_fluid_model.MaxwellianFluidModel.defaulter.<locals>.<lambda>(x)>,\n",
       " 'bz': <function pharein.maxwellian_fluid_model.MaxwellianFluidModel.defaulter.<locals>.<lambda>(x)>,\n",
       " 'ex': <function pharein.maxwellian_fluid_model.MaxwellianFluidModel.defaulter.<locals>.<lambda>(x)>,\n",
       " 'ey': <function pharein.maxwellian_fluid_model.MaxwellianFluidModel.defaulter.<locals>.<lambda>(x)>,\n",
       " 'ez': <function pharein.maxwellian_fluid_model.MaxwellianFluidModel.defaulter.<locals>.<lambda>(x)>,\n",
       " 'protons': {'charge': 1.0,\n",
       "  'mass': 1.0,\n",
       "  'density': <function __main__.n(x)>,\n",
       "  'vx': <function pharein.maxwellian_fluid_model.MaxwellianFluidModel.defaulter.<locals>.<lambda>(x)>,\n",
       "  'vy': <function pharein.maxwellian_fluid_model.MaxwellianFluidModel.defaulter.<locals>.<lambda>(x)>,\n",
       "  'vz': <function pharein.maxwellian_fluid_model.MaxwellianFluidModel.defaulter.<locals>.<lambda>(x)>,\n",
       "  'vthx': <function pharein.maxwellian_fluid_model.MaxwellianFluidModel.defaulter.<locals>.<lambda>(x)>,\n",
       "  'vthy': <function pharein.maxwellian_fluid_model.MaxwellianFluidModel.defaulter.<locals>.<lambda>(x)>,\n",
       "  'vthz': <function pharein.maxwellian_fluid_model.MaxwellianFluidModel.defaulter.<locals>.<lambda>(x)>,\n",
       "  'nbrParticlesPerCell': 100},\n",
       " 'background': {'charge': 1.0,\n",
       "  'mass': 1.0,\n",
       "  'density': <function pharein.maxwellian_fluid_model.MaxwellianFluidModel.defaulter.<locals>.<lambda>(x)>,\n",
       "  'vx': <function pharein.maxwellian_fluid_model.MaxwellianFluidModel.defaulter.<locals>.<lambda>(x)>,\n",
       "  'vy': <function pharein.maxwellian_fluid_model.MaxwellianFluidModel.defaulter.<locals>.<lambda>(x)>,\n",
       "  'vz': <function pharein.maxwellian_fluid_model.MaxwellianFluidModel.defaulter.<locals>.<lambda>(x)>,\n",
       "  'vthx': <function pharein.maxwellian_fluid_model.MaxwellianFluidModel.defaulter.<locals>.<lambda>(x)>,\n",
       "  'vthy': <function pharein.maxwellian_fluid_model.MaxwellianFluidModel.defaulter.<locals>.<lambda>(x)>,\n",
       "  'vthz': <function pharein.maxwellian_fluid_model.MaxwellianFluidModel.defaulter.<locals>.<lambda>(x)>,\n",
       "  'nbrParticlesPerCell': 100}}"
      ]
     },
     "execution_count": 15,
     "metadata": {},
     "output_type": "execute_result"
    }
   ],
   "source": [
    "ph.global_vars.sim.model.model_dict"
   ]
  },
  {
   "cell_type": "code",
   "execution_count": 16,
   "metadata": {
    "ExecuteTime": {
     "end_time": "2019-12-14T13:40:11.322662Z",
     "start_time": "2019-12-14T13:40:11.315122Z"
    }
   },
   "outputs": [],
   "source": [
    "d = ph.global_vars.sim.model.model_dict[\"protons\"][\"density\"]"
   ]
  },
  {
   "cell_type": "code",
   "execution_count": 17,
   "metadata": {
    "ExecuteTime": {
     "end_time": "2019-12-14T13:40:11.705270Z",
     "start_time": "2019-12-14T13:40:11.697914Z"
    }
   },
   "outputs": [
    {
     "data": {
      "text/plain": [
       "0.009866037165440192"
      ]
     },
     "execution_count": 17,
     "metadata": {},
     "output_type": "execute_result"
    }
   ],
   "source": [
    "d(2)"
   ]
  },
  {
   "cell_type": "code",
   "execution_count": 18,
   "metadata": {
    "ExecuteTime": {
     "end_time": "2019-12-14T13:40:12.091239Z",
     "start_time": "2019-12-14T13:40:12.081599Z"
    }
   },
   "outputs": [
    {
     "data": {
      "text/plain": [
       "<function pharein.maxwellian_fluid_model.MaxwellianFluidModel.defaulter.<locals>.<lambda>(x)>"
      ]
     },
     "execution_count": 18,
     "metadata": {},
     "output_type": "execute_result"
    }
   ],
   "source": [
    "ph.global_vars.sim.model.model_dict['bx']"
   ]
  },
  {
   "cell_type": "code",
   "execution_count": 19,
   "metadata": {
    "ExecuteTime": {
     "end_time": "2019-12-14T13:40:12.499780Z",
     "start_time": "2019-12-14T13:40:12.472600Z"
    }
   },
   "outputs": [
    {
     "name": "stdout",
     "output_type": "stream",
     "text": [
      "simulation/diagnostics/electromag/electromag0/subtype/EM_E\n",
      "simulation/diagnostics/electromag/electromag0/compute_every/5\n",
      "simulation/diagnostics/electromag/electromag0/write_every/10\n",
      "simulation/diagnostics/electromag/electromag0/start_iteration/0\n",
      "simulation/diagnostics/electromag/electromag0/last_iteration/990\n",
      "\n",
      "simulation/diagnostics/fluid/fluid0/subtype/density\n",
      "simulation/diagnostics/fluid/fluid0/compute_every/5\n",
      "simulation/diagnostics/fluid/fluid0/write_every/10\n",
      "simulation/diagnostics/fluid/fluid0/start_iteration/0\n",
      "simulation/diagnostics/fluid/fluid0/last_iteration/990\n",
      "\n",
      "simulation/diagnostics/fluid/fluid1/subtype/bulk_velocity\n",
      "simulation/diagnostics/fluid/fluid1/compute_every/5\n",
      "simulation/diagnostics/fluid/fluid1/write_every/10\n",
      "simulation/diagnostics/fluid/fluid1/start_iteration/0\n",
      "simulation/diagnostics/fluid/fluid1/last_iteration/990\n",
      "\n",
      "simulation/diagnostics/fluid/fluid2/subtype/density\n",
      "simulation/diagnostics/fluid/fluid2/compute_every/5\n",
      "simulation/diagnostics/fluid/fluid2/write_every/10\n",
      "simulation/diagnostics/fluid/fluid2/start_iteration/0\n",
      "simulation/diagnostics/fluid/fluid2/last_iteration/990\n",
      "\n",
      "simulation/diagnostics/fluid/fluid3/subtype/flux\n",
      "simulation/diagnostics/fluid/fluid3/compute_every/5\n",
      "simulation/diagnostics/fluid/fluid3/write_every/10\n",
      "simulation/diagnostics/fluid/fluid3/start_iteration/0\n",
      "simulation/diagnostics/fluid/fluid3/last_iteration/990\n",
      "\n",
      "simulation/diagnostics/electromag/electromag1/subtype/EM_B\n",
      "simulation/diagnostics/electromag/electromag1/compute_every/5\n",
      "simulation/diagnostics/electromag/electromag1/write_every/10\n",
      "simulation/diagnostics/electromag/electromag1/start_iteration/0\n",
      "simulation/diagnostics/electromag/electromag1/last_iteration/990\n",
      "\n",
      "simulation/diagnostics/particle/particle0/subtype/space_box\n",
      "simulation/diagnostics/particle/particle0/compute_every/10\n",
      "simulation/diagnostics/particle/particle0/write_every/10\n",
      "simulation/diagnostics/particle/particle0/start_iteration/0\n",
      "simulation/diagnostics/particle/particle0/last_iteration/90\n",
      "\n"
     ]
    }
   ],
   "source": [
    "for diag in ph.global_vars.sim.diagnostics:\n",
    "    diag_path = \"simulation/diagnostics/\"\n",
    "    categ_path = diag_path + diag.category + '/'\n",
    "    name_path = categ_path + diag.name\n",
    "    print(name_path + \"/\" + 'subtype/' + diag.diag_type)\n",
    "    print(name_path + \"/\" + 'compute_every/' + str(diag.compute_every))\n",
    "    print(name_path + \"/\" + 'write_every/' + str(diag.write_every))\n",
    "    print(name_path + \"/\" + 'start_iteration/' + str(diag.start_iteration))\n",
    "    print(name_path + \"/\" + 'last_iteration/' + str(diag.last_iteration))    \n",
    "    if (diag.category in [\"FluidDiagnostics\", \"ParticleDiagnostics\"]):\n",
    "        print(name_path + \"/\" + 'population/' + diag.population_name)    \n",
    "        \n",
    "    \n",
    "    #print(\"simulation/diagnostics/\" + diag.category)\n",
    "    #print(\"simulation/diagnostics/name/\" + diag.name)\n",
    "    #print(\"simulation/diagnostics/type/\"  + diag.category)\n",
    "    #print(\"simulation/diagnostics/subtype/\"  + diag.diag_type)\n",
    "    #print(\"simulation/diagnostics/compute_every/\" + str(diag.compute_every))\n",
    "    #print(\"simulation/diagnostics/write_every/\" + str(diag.write_every))\n",
    "    #print(\"simulation/diagnostics/start_iteration/\" + str(diag.start_iteration))    \n",
    "    #print(\"simulation/diagnostics/last_iteration/\" + str(diag.last_iteration))  \n",
    "\n",
    "    #    print(\"simulation/diagnostics/population/\" + str(diag.population_name))\n",
    "    print(\"\")\n",
    "    "
   ]
  },
  {
   "cell_type": "code",
   "execution_count": null,
   "metadata": {},
   "outputs": [],
   "source": []
  }
 ],
 "metadata": {
  "kernelspec": {
   "display_name": "Python 3",
   "language": "python",
   "name": "python3"
  },
  "language_info": {
   "codemirror_mode": {
    "name": "ipython",
    "version": 3
   },
   "file_extension": ".py",
   "mimetype": "text/x-python",
   "name": "python",
   "nbconvert_exporter": "python",
   "pygments_lexer": "ipython3",
   "version": "3.8.6"
  },
  "varInspector": {
   "cols": {
    "lenName": 16,
    "lenType": 16,
    "lenVar": 40
   },
   "kernels_config": {
    "python": {
     "delete_cmd_postfix": "",
     "delete_cmd_prefix": "del ",
     "library": "var_list.py",
     "varRefreshCmd": "print(var_dic_list())"
    },
    "r": {
     "delete_cmd_postfix": ") ",
     "delete_cmd_prefix": "rm(",
     "library": "var_list.r",
     "varRefreshCmd": "cat(var_dic_list()) "
    }
   },
   "types_to_exclude": [
    "module",
    "function",
    "builtin_function_or_method",
    "instance",
    "_Feature"
   ],
   "window_display": false
  }
 },
 "nbformat": 4,
 "nbformat_minor": 2
}
