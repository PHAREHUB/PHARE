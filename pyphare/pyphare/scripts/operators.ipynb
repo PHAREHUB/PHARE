{
 "cells": [
  {
   "cell_type": "code",
   "execution_count": null,
   "id": "2b38a501",
   "metadata": {},
   "outputs": [],
   "source": [
    "import sys\n",
    "import os\n",
    "sys.path.append(\"/home/smets/codes/far/PHARE/pyphare/\")\n",
    "import pyphare\n",
    "import matplotlib.pyplot as plt\n",
    "from pyphare.pharesee.run import Run\n",
    "import numpy as np\n",
    "%matplotlib inline"
   ]
  },
  {
   "cell_type": "code",
   "execution_count": null,
   "id": "0f51832e",
   "metadata": {},
   "outputs": [],
   "source": [
    "run_path = \"/DATA/phare/harris/tiny\" # Tiny Harris run on kaa\n",
    "# run_path = \"/home/smets/sherpa/data/harris/tiny\"\n",
    "os.listdir(run_path)"
   ]
  },
  {
   "cell_type": "code",
   "execution_count": null,
   "id": "b66f1d63",
   "metadata": {},
   "outputs": [],
   "source": [
    "run  = Run(run_path)\n",
    "time = 1.0"
   ]
  },
  {
   "cell_type": "code",
   "execution_count": null,
   "id": "aa5cbf9a",
   "metadata": {},
   "outputs": [],
   "source": [
    "b = run.GetB(time)\n",
    "e = run.GetE(time)"
   ]
  },
  {
   "cell_type": "code",
   "execution_count": null,
   "id": "1f0dba23",
   "metadata": {},
   "outputs": [],
   "source": [
    "h = b\n",
    "type(h)"
   ]
  },
  {
   "cell_type": "code",
   "execution_count": null,
   "id": "3a256540",
   "metadata": {},
   "outputs": [],
   "source": [
    "for ilvl, lvl in h.levels(time).items():\n",
    "    for patch in lvl.patches:\n",
    "        names = list(patch.patch_datas.keys())\n",
    "        for name in names:\n",
    "            pdata = patch.patch_datas[name]\n",
    "            print(\"name : {}\".format(name))\n",
    "            print(\"size : {}\".format(pdata.size))\n",
    "            print(\"box : {}\".format(pdata.box))\n",
    "            print(\"ghostBox : {}\".format(pdata.ghost_box))\n",
    "            print(\"dset.shape : {}\".format(np.asarray(pdata.dataset).shape))\n",
    "            print(\" --- \")\n",
    "            # break\n",
    "        break\n",
    "    break"
   ]
  },
  {
   "cell_type": "code",
   "execution_count": null,
   "id": "066d9a01",
   "metadata": {},
   "outputs": [],
   "source": [
    "for (lvl_b, lvl_e) in zip(b.levels(time).values(), e.levels(time).values()):\n",
    "    for p_e, p_b in zip(lvl_b.patches, lvl_e.patches):\n",
    "        zob = p_e % p_b\n",
    "        print(zob)\n",
    "        break"
   ]
  },
  {
   "cell_type": "code",
   "execution_count": null,
   "id": "1e98eb25",
   "metadata": {},
   "outputs": [],
   "source": [
    "t = b * b"
   ]
  },
  {
   "cell_type": "code",
   "execution_count": null,
   "id": "bceb231a",
   "metadata": {},
   "outputs": [],
   "source": [
    "t.plot(qty='x',\n",
    "       vmin=0.,\n",
    "       vmax=1.2,\n",
    "       cmap='viridis')"
   ]
  },
  {
   "cell_type": "code",
   "execution_count": null,
   "id": "6604d752",
   "metadata": {},
   "outputs": [],
   "source": [
    "t = b * e"
   ]
  },
  {
   "cell_type": "code",
   "execution_count": null,
   "id": "9a915023",
   "metadata": {},
   "outputs": [],
   "source": [
    "type(t)"
   ]
  },
  {
   "cell_type": "code",
   "execution_count": null,
   "id": "e9b3bc9f",
   "metadata": {},
   "outputs": [],
   "source": [
    "t.plot(qty='z',\n",
    "       vmin=-.0001,\n",
    "       vmax=+.0001,\n",
    "       cmap='viridis')"
   ]
  },
  {
   "cell_type": "code",
   "execution_count": null,
   "id": "77a6cd3d",
   "metadata": {},
   "outputs": [],
   "source": [
    "v = 2 * h"
   ]
  },
  {
   "cell_type": "code",
   "execution_count": null,
   "id": "3281b863",
   "metadata": {},
   "outputs": [],
   "source": [
    "v.plot(qty='x',\n",
    "       vmin=-2.4,\n",
    "       vmax=+2.4,\n",
    "       cmap='viridis')"
   ]
  },
  {
   "cell_type": "code",
   "execution_count": null,
   "id": "e677257a",
   "metadata": {},
   "outputs": [],
   "source": [
    "n = run.GetNi(time)"
   ]
  },
  {
   "cell_type": "code",
   "execution_count": null,
   "id": "dbede048",
   "metadata": {},
   "outputs": [],
   "source": [
    "print(type(n))"
   ]
  },
  {
   "cell_type": "code",
   "execution_count": null,
   "id": "e3b0041d",
   "metadata": {},
   "outputs": [],
   "source": [
    "from pyphare.core import operators\n",
    "z = operators.sqrt(n)"
   ]
  },
  {
   "cell_type": "code",
   "execution_count": null,
   "id": "2c8241a2",
   "metadata": {},
   "outputs": [],
   "source": [
    "import pyphare.core.operators as po\n",
    "z = po.sqrt(n)"
   ]
  },
  {
   "cell_type": "code",
   "execution_count": null,
   "id": "cc93385f",
   "metadata": {},
   "outputs": [],
   "source": [
    "print(type(z))"
   ]
  },
  {
   "cell_type": "code",
   "execution_count": null,
   "id": "9f15309d",
   "metadata": {},
   "outputs": [],
   "source": [
    "print(z.levels()[0].patches[0].patch_datas.keys())"
   ]
  },
  {
   "cell_type": "code",
   "execution_count": null,
   "id": "5fb66cf8",
   "metadata": {},
   "outputs": [],
   "source": [
    "z.plot(qty='value',\n",
    "       vmin=0.,\n",
    "       vmax=1.,\n",
    "       cmap='viridis')"
   ]
  },
  {
   "cell_type": "code",
   "execution_count": null,
   "id": "8d4093ce",
   "metadata": {},
   "outputs": [],
   "source": []
  }
 ],
 "metadata": {
  "kernelspec": {
   "display_name": "Python 3 (ipykernel)",
   "language": "python",
   "name": "python3"
  },
  "language_info": {
   "codemirror_mode": {
    "name": "ipython",
    "version": 3
   },
   "file_extension": ".py",
   "mimetype": "text/x-python",
   "name": "python",
   "nbconvert_exporter": "python",
   "pygments_lexer": "ipython3",
   "version": "3.11.4"
  }
 },
 "nbformat": 4,
 "nbformat_minor": 5
}
